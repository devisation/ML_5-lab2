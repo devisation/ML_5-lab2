{
 "cells": [
  {
   "cell_type": "code",
   "execution_count": 92,
   "metadata": {},
   "outputs": [],
   "source": [
    "# import important packages\n",
    "import numpy as np\n",
    "import pandas as pd\n",
    "import matplotlib.pyplot as plt\n",
    "import seaborn as sns\n",
    "\n",
    "%matplotlib inline\n",
    "\n",
    "from sklearn.model_selection import train_test_split\n",
    "from sklearn.ensemble import RandomForestClassifier\n",
    "from sklearn.metrics import accuracy_score\n",
    "from sklearn.preprocessing import StandardScaler, MinMaxScaler\n",
    "from sklearn.impute import SimpleImputer\n",
    "from sklearn.pipeline import Pipeline\n",
    "from sklearn.compose import ColumnTransformer\n",
    "\n",
    "from matplotlib import rcParams\n",
    "import warnings\n",
    "\n",
    "warnings.filterwarnings(\"ignore\")\n",
    "\n",
    "# figure size in inches\n",
    "rcParams[\"figure.figsize\"] = 10, 6\n",
    "np.random.seed(42)\n",
    "plt.style.use('seaborn')"
   ]
  },
  {
   "cell_type": "markdown",
   "metadata": {},
   "source": [
    "## 1. Load Dataset\n",
    "- Load the `prime_indians_diabetes` dataset\n",
    "- Check the first five samples. Are there any categorical features?\n",
    "- Is this a classification or regression problem?\n",
    "- Check the columns of the dataset"
   ]
  },
  {
   "cell_type": "markdown",
   "metadata": {},
   "source": [
    " There are  8 input variables and 1 output variable. Missing values are believed to be encoded with zero values. The variable names are as follows:\n",
    "\n",
    "- Number of times pregnant.\n",
    "- Plasma glucose concentration a 2 hours in an oral glucose tolerance test.\n",
    "- Diastolic blood pressure (mm Hg).\n",
    "- Triceps skinfold thickness (mm).\n",
    "- 2-Hour serum insulin (mu U/ml).\n",
    "- Body mass index (weight in kg/(height in m)^2).\n",
    "- Diabetes pedigree function.\n",
    "- Age (years).\n",
    "- Class variable (0 or 1)."
   ]
  },
  {
   "cell_type": "code",
   "execution_count": 93,
   "metadata": {},
   "outputs": [
    {
     "data": {
      "text/html": [
       "<div>\n",
       "<style scoped>\n",
       "    .dataframe tbody tr th:only-of-type {\n",
       "        vertical-align: middle;\n",
       "    }\n",
       "\n",
       "    .dataframe tbody tr th {\n",
       "        vertical-align: top;\n",
       "    }\n",
       "\n",
       "    .dataframe thead th {\n",
       "        text-align: right;\n",
       "    }\n",
       "</style>\n",
       "<table border=\"1\" class=\"dataframe\">\n",
       "  <thead>\n",
       "    <tr style=\"text-align: right;\">\n",
       "      <th></th>\n",
       "      <th>time_pregnant_no</th>\n",
       "      <th>plasma_concentration</th>\n",
       "      <th>diastolic_blood_pressure</th>\n",
       "      <th>triceps_skinfold_thickness</th>\n",
       "      <th>serum_insulin</th>\n",
       "      <th>bmi</th>\n",
       "      <th>diabetes_pedigree</th>\n",
       "      <th>age</th>\n",
       "      <th>class</th>\n",
       "    </tr>\n",
       "  </thead>\n",
       "  <tbody>\n",
       "    <tr>\n",
       "      <th>0</th>\n",
       "      <td>6</td>\n",
       "      <td>148</td>\n",
       "      <td>72</td>\n",
       "      <td>35</td>\n",
       "      <td>0</td>\n",
       "      <td>33.6</td>\n",
       "      <td>0.627</td>\n",
       "      <td>50</td>\n",
       "      <td>1</td>\n",
       "    </tr>\n",
       "    <tr>\n",
       "      <th>1</th>\n",
       "      <td>1</td>\n",
       "      <td>85</td>\n",
       "      <td>66</td>\n",
       "      <td>29</td>\n",
       "      <td>0</td>\n",
       "      <td>26.6</td>\n",
       "      <td>0.351</td>\n",
       "      <td>31</td>\n",
       "      <td>0</td>\n",
       "    </tr>\n",
       "    <tr>\n",
       "      <th>2</th>\n",
       "      <td>8</td>\n",
       "      <td>183</td>\n",
       "      <td>64</td>\n",
       "      <td>0</td>\n",
       "      <td>0</td>\n",
       "      <td>23.3</td>\n",
       "      <td>0.672</td>\n",
       "      <td>32</td>\n",
       "      <td>1</td>\n",
       "    </tr>\n",
       "    <tr>\n",
       "      <th>3</th>\n",
       "      <td>1</td>\n",
       "      <td>89</td>\n",
       "      <td>66</td>\n",
       "      <td>23</td>\n",
       "      <td>94</td>\n",
       "      <td>28.1</td>\n",
       "      <td>0.167</td>\n",
       "      <td>21</td>\n",
       "      <td>0</td>\n",
       "    </tr>\n",
       "    <tr>\n",
       "      <th>4</th>\n",
       "      <td>0</td>\n",
       "      <td>137</td>\n",
       "      <td>40</td>\n",
       "      <td>35</td>\n",
       "      <td>168</td>\n",
       "      <td>43.1</td>\n",
       "      <td>2.288</td>\n",
       "      <td>33</td>\n",
       "      <td>1</td>\n",
       "    </tr>\n",
       "  </tbody>\n",
       "</table>\n",
       "</div>"
      ],
      "text/plain": [
       "   time_pregnant_no  plasma_concentration  diastolic_blood_pressure  \\\n",
       "0                 6                   148                        72   \n",
       "1                 1                    85                        66   \n",
       "2                 8                   183                        64   \n",
       "3                 1                    89                        66   \n",
       "4                 0                   137                        40   \n",
       "\n",
       "   triceps_skinfold_thickness  serum_insulin   bmi  diabetes_pedigree  age  \\\n",
       "0                          35              0  33.6              0.627   50   \n",
       "1                          29              0  26.6              0.351   31   \n",
       "2                           0              0  23.3              0.672   32   \n",
       "3                          23             94  28.1              0.167   21   \n",
       "4                          35            168  43.1              2.288   33   \n",
       "\n",
       "   class  \n",
       "0      1  \n",
       "1      0  \n",
       "2      1  \n",
       "3      0  \n",
       "4      1  "
      ]
     },
     "execution_count": 93,
     "metadata": {},
     "output_type": "execute_result"
    }
   ],
   "source": [
    "diabetes = pd.read_csv('data/pima_indians_diabetes.csv')\n",
    "diabetes.head()"
   ]
  },
  {
   "cell_type": "code",
   "execution_count": 94,
   "metadata": {},
   "outputs": [
    {
     "name": "stdout",
     "output_type": "stream",
     "text": [
      "<class 'pandas.core.frame.DataFrame'>\n",
      "RangeIndex: 768 entries, 0 to 767\n",
      "Data columns (total 9 columns):\n",
      " #   Column                      Non-Null Count  Dtype  \n",
      "---  ------                      --------------  -----  \n",
      " 0   time_pregnant_no            768 non-null    int64  \n",
      " 1   plasma_concentration        768 non-null    int64  \n",
      " 2   diastolic_blood_pressure    768 non-null    int64  \n",
      " 3   triceps_skinfold_thickness  768 non-null    int64  \n",
      " 4   serum_insulin               768 non-null    int64  \n",
      " 5   bmi                         768 non-null    float64\n",
      " 6   diabetes_pedigree           768 non-null    float64\n",
      " 7   age                         768 non-null    int64  \n",
      " 8   class                       768 non-null    int64  \n",
      "dtypes: float64(2), int64(7)\n",
      "memory usage: 54.1 KB\n"
     ]
    }
   ],
   "source": [
    "diabetes.info()"
   ]
  },
  {
   "cell_type": "code",
   "execution_count": 95,
   "metadata": {},
   "outputs": [
    {
     "data": {
      "text/plain": [
       "array([[<AxesSubplot:title={'center':'time_pregnant_no'}>,\n",
       "        <AxesSubplot:title={'center':'plasma_concentration'}>,\n",
       "        <AxesSubplot:title={'center':'diastolic_blood_pressure'}>],\n",
       "       [<AxesSubplot:title={'center':'triceps_skinfold_thickness'}>,\n",
       "        <AxesSubplot:title={'center':'serum_insulin'}>,\n",
       "        <AxesSubplot:title={'center':'bmi'}>],\n",
       "       [<AxesSubplot:title={'center':'diabetes_pedigree'}>,\n",
       "        <AxesSubplot:title={'center':'age'}>,\n",
       "        <AxesSubplot:title={'center':'class'}>]], dtype=object)"
      ]
     },
     "execution_count": 95,
     "metadata": {},
     "output_type": "execute_result"
    },
    {
     "data": {
      "image/png": "[encoded data removed]",
      "text/plain": [
       "<Figure size 576x396 with 9 Axes>"
      ]
     },
     "metadata": {},
     "output_type": "display_data"
    }
   ],
   "source": [
    "diabetes.hist()"
   ]
  },
  {
   "cell_type": "markdown",
   "metadata": {},
   "source": [
    "Only categorical variable is target variable, 'class'.\n",
    "\n",
    "Therefore, this is a classification problem."
   ]
  },
  {
   "cell_type": "code",
   "execution_count": 96,
   "metadata": {},
   "outputs": [
    {
     "data": {
      "text/plain": [
       "plasma_concentration           0.651042\n",
       "diastolic_blood_pressure       4.557292\n",
       "triceps_skinfold_thickness    29.557292\n",
       "serum_insulin                 48.697917\n",
       "bmi                            1.432292\n",
       "dtype: float64"
      ]
     },
     "execution_count": 96,
     "metadata": {},
     "output_type": "execute_result"
    }
   ],
   "source": [
    "zero_counts = (diabetes.drop(['time_pregnant_no','class'], axis=1)==0).sum()\n",
    "# times pregnant dropped because presumably 0 means never pregnant, not missing values\n",
    "cols_w_null_vals = diabetes.drop(['time_pregnant_no','class'], axis=1).columns[zero_counts!=0]\n",
    "100*(diabetes[cols_w_null_vals]==0).sum()/diabetes[cols_w_null_vals].count()"
   ]
  },
  {
   "cell_type": "code",
   "execution_count": 97,
   "metadata": {},
   "outputs": [
    {
     "data": {
      "text/html": [
       "<div>\n",
       "<style scoped>\n",
       "    .dataframe tbody tr th:only-of-type {\n",
       "        vertical-align: middle;\n",
       "    }\n",
       "\n",
       "    .dataframe tbody tr th {\n",
       "        vertical-align: top;\n",
       "    }\n",
       "\n",
       "    .dataframe thead th {\n",
       "        text-align: right;\n",
       "    }\n",
       "</style>\n",
       "<table border=\"1\" class=\"dataframe\">\n",
       "  <thead>\n",
       "    <tr style=\"text-align: right;\">\n",
       "      <th></th>\n",
       "      <th>plasma_concentration</th>\n",
       "      <th>diastolic_blood_pressure</th>\n",
       "      <th>triceps_skinfold_thickness</th>\n",
       "      <th>serum_insulin</th>\n",
       "      <th>bmi</th>\n",
       "    </tr>\n",
       "  </thead>\n",
       "  <tbody>\n",
       "    <tr>\n",
       "      <th>count</th>\n",
       "      <td>763.000</td>\n",
       "      <td>733.000</td>\n",
       "      <td>541.000</td>\n",
       "      <td>394.000</td>\n",
       "      <td>757.000</td>\n",
       "    </tr>\n",
       "    <tr>\n",
       "      <th>mean</th>\n",
       "      <td>121.687</td>\n",
       "      <td>72.405</td>\n",
       "      <td>29.153</td>\n",
       "      <td>155.548</td>\n",
       "      <td>32.457</td>\n",
       "    </tr>\n",
       "    <tr>\n",
       "      <th>std</th>\n",
       "      <td>30.536</td>\n",
       "      <td>12.382</td>\n",
       "      <td>10.477</td>\n",
       "      <td>118.776</td>\n",
       "      <td>6.925</td>\n",
       "    </tr>\n",
       "    <tr>\n",
       "      <th>min</th>\n",
       "      <td>44.000</td>\n",
       "      <td>24.000</td>\n",
       "      <td>7.000</td>\n",
       "      <td>14.000</td>\n",
       "      <td>18.200</td>\n",
       "    </tr>\n",
       "    <tr>\n",
       "      <th>25%</th>\n",
       "      <td>99.000</td>\n",
       "      <td>64.000</td>\n",
       "      <td>22.000</td>\n",
       "      <td>76.250</td>\n",
       "      <td>27.500</td>\n",
       "    </tr>\n",
       "    <tr>\n",
       "      <th>50%</th>\n",
       "      <td>117.000</td>\n",
       "      <td>72.000</td>\n",
       "      <td>29.000</td>\n",
       "      <td>125.000</td>\n",
       "      <td>32.300</td>\n",
       "    </tr>\n",
       "    <tr>\n",
       "      <th>75%</th>\n",
       "      <td>141.000</td>\n",
       "      <td>80.000</td>\n",
       "      <td>36.000</td>\n",
       "      <td>190.000</td>\n",
       "      <td>36.600</td>\n",
       "    </tr>\n",
       "    <tr>\n",
       "      <th>max</th>\n",
       "      <td>199.000</td>\n",
       "      <td>122.000</td>\n",
       "      <td>99.000</td>\n",
       "      <td>846.000</td>\n",
       "      <td>67.100</td>\n",
       "    </tr>\n",
       "  </tbody>\n",
       "</table>\n",
       "</div>"
      ],
      "text/plain": [
       "       plasma_concentration  diastolic_blood_pressure  \\\n",
       "count               763.000                   733.000   \n",
       "mean                121.687                    72.405   \n",
       "std                  30.536                    12.382   \n",
       "min                  44.000                    24.000   \n",
       "25%                  99.000                    64.000   \n",
       "50%                 117.000                    72.000   \n",
       "75%                 141.000                    80.000   \n",
       "max                 199.000                   122.000   \n",
       "\n",
       "       triceps_skinfold_thickness  serum_insulin      bmi  \n",
       "count                     541.000        394.000  757.000  \n",
       "mean                       29.153        155.548   32.457  \n",
       "std                        10.477        118.776    6.925  \n",
       "min                         7.000         14.000   18.200  \n",
       "25%                        22.000         76.250   27.500  \n",
       "50%                        29.000        125.000   32.300  \n",
       "75%                        36.000        190.000   36.600  \n",
       "max                        99.000        846.000   67.100  "
      ]
     },
     "execution_count": 97,
     "metadata": {},
     "output_type": "execute_result"
    }
   ],
   "source": [
    "diabetes[cols_w_null_vals].replace(0.,np.nan).describe().round(3)"
   ]
  },
  {
   "cell_type": "code",
   "execution_count": 98,
   "metadata": {},
   "outputs": [
    {
     "name": "stdout",
     "output_type": "stream",
     "text": [
      "<class 'pandas.core.frame.DataFrame'>\n",
      "RangeIndex: 768 entries, 0 to 767\n",
      "Data columns (total 9 columns):\n",
      " #   Column                      Non-Null Count  Dtype  \n",
      "---  ------                      --------------  -----  \n",
      " 0   time_pregnant_no            768 non-null    int64  \n",
      " 1   plasma_concentration        763 non-null    float64\n",
      " 2   diastolic_blood_pressure    733 non-null    float64\n",
      " 3   triceps_skinfold_thickness  541 non-null    float64\n",
      " 4   serum_insulin               394 non-null    float64\n",
      " 5   bmi                         757 non-null    float64\n",
      " 6   diabetes_pedigree           768 non-null    float64\n",
      " 7   age                         768 non-null    int64  \n",
      " 8   class                       768 non-null    int64  \n",
      "dtypes: float64(6), int64(3)\n",
      "memory usage: 54.1 KB\n"
     ]
    }
   ],
   "source": [
    "df = diabetes.copy()\n",
    "df[cols_w_null_vals] = df[cols_w_null_vals].replace(0.,np.nan)\n",
    "df.info()"
   ]
  },
  {
   "cell_type": "markdown",
   "metadata": {},
   "source": [
    "## 2. Data Preprocessing and Model\n",
    "- Assign features to `X` and target variable to `y`\n",
    "- Create a pipeline for preprocessing which includes imputing and standardscaling\n",
    "- Create a pipeline for preprocessor and the random forest classifier. Set `n_estimators=100`\n",
    "- Train the model and make your predictions on the test dataset\n",
    "- List the feature importance and the corresponding features\n",
    "- Create a bar plot for the feature importances\n",
    "- Drop the least important feature from the data and repeat the steps above"
   ]
  },
  {
   "cell_type": "code",
   "execution_count": 99,
   "metadata": {},
   "outputs": [],
   "source": [
    "def analyze_dat(df, verbose=False, impute_strat = 'median', minmax_counted=False, split_seed=0):\n",
    "    X = df.drop(['class'], axis=1)\n",
    "    y = df['class']\n",
    "    Xtr, Xts, ytr, yts = train_test_split(X, y, stratify=y, random_state=split_seed)\n",
    "\n",
    "    if minmax_counted: tf_count = MinMaxScaler()\n",
    "    else: tf_count = StandardScaler()\n",
    "    tf_meas = Pipeline([\n",
    "        ('imputer', SimpleImputer(missing_values=np.nan, strategy=impute_strat)),\n",
    "        ('scaler', StandardScaler())\n",
    "    ])\n",
    "\n",
    "    feats = X.columns\n",
    "    counted_feats = feats[X.dtypes=='int64'] #eg age and num times pregnant\n",
    "    measured_feats = feats[X.dtypes=='float64']\n",
    "\n",
    "    preprocessor = ColumnTransformer([\n",
    "        ('counted', tf_count, counted_feats),\n",
    "        ('measured', tf_meas, measured_feats)\n",
    "    ])\n",
    "\n",
    "    clf = Pipeline([\n",
    "        ('preprocessor', preprocessor),\n",
    "        ('estimator', RandomForestClassifier(n_estimators=100))\n",
    "    ])\n",
    "\n",
    "    clf.fit(Xtr, ytr)\n",
    "    clf_score = clf.score(Xts, yts)\n",
    "    importances = clf.named_steps.estimator.feature_importances_\n",
    "    if verbose:\n",
    "        plt.barh(range(len(feats)), importances)\n",
    "        plt.yticks(range(len(feats)), feats)\n",
    "        plt.title('Feature Importances')\n",
    "        print(f'Test Score: {clf_score}')\n",
    "\n",
    "    least_important_feats = feats[importances==importances.min()].to_list()\n",
    "    return clf_score, least_important_feats"
   ]
  },
  {
   "cell_type": "code",
   "execution_count": 100,
   "metadata": {},
   "outputs": [
    {
     "name": "stdout",
     "output_type": "stream",
     "text": [
      "Test Score: 0.7708333333333334\n"
     ]
    },
    {
     "data": {
      "text/plain": [
       "['serum_insulin']"
      ]
     },
     "execution_count": 100,
     "metadata": {},
     "output_type": "execute_result"
    },
    {
     "data": {
      "image/png": "[encoded data removed]",
      "text/plain": [
       "<Figure size 576x396 with 1 Axes>"
      ]
     },
     "metadata": {},
     "output_type": "display_data"
    }
   ],
   "source": [
    "dropfeat1 = analyze_dat(df, verbose=True)[1]\n",
    "dropfeat1"
   ]
  },
  {
   "cell_type": "code",
   "execution_count": 101,
   "metadata": {},
   "outputs": [
    {
     "name": "stdout",
     "output_type": "stream",
     "text": [
      "Test Score: 0.765625\n"
     ]
    },
    {
     "data": {
      "text/plain": [
       "['bmi']"
      ]
     },
     "execution_count": 101,
     "metadata": {},
     "output_type": "execute_result"
    },
    {
     "data": {
      "image/png": "[encoded data removed]",
      "text/plain": [
       "<Figure size 576x396 with 1 Axes>"
      ]
     },
     "metadata": {},
     "output_type": "display_data"
    }
   ],
   "source": [
    "dropfeat2 = analyze_dat(df.drop(dropfeat1, axis=1), verbose=True)[1]\n",
    "dropfeat2"
   ]
  },
  {
   "cell_type": "code",
   "execution_count": 102,
   "metadata": {},
   "outputs": [
    {
     "name": "stdout",
     "output_type": "stream",
     "text": [
      "Test Score: 0.7552083333333334\n"
     ]
    },
    {
     "data": {
      "text/plain": [
       "['time_pregnant_no']"
      ]
     },
     "execution_count": 102,
     "metadata": {},
     "output_type": "execute_result"
    },
    {
     "data": {
      "image/png": "[encoded data removed]",
      "text/plain": [
       "<Figure size 576x396 with 1 Axes>"
      ]
     },
     "metadata": {},
     "output_type": "display_data"
    }
   ],
   "source": [
    "analyze_dat(df.drop(dropfeat2+dropfeat1, axis=1), verbose=True)[1]"
   ]
  }
 ],
 "metadata": {
  "hide_input": false,
  "kernelspec": {
   "display_name": "Python 3.9.12 ('datsci')",
   "language": "python",
   "name": "python3"
  },
  "language_info": {
   "codemirror_mode": {
    "name": "ipython",
    "version": 3
   },
   "file_extension": ".py",
   "mimetype": "text/x-python",
   "name": "python",
   "nbconvert_exporter": "python",
   "pygments_lexer": "ipython3",
   "version": "3.9.12"
  },
  "toc": {
   "base_numbering": 1,
   "nav_menu": {},
   "number_sections": true,
   "sideBar": true,
   "skip_h1_title": false,
   "title_cell": "Table of Contents",
   "title_sidebar": "Contents",
   "toc_cell": false,
   "toc_position": {},
   "toc_section_display": true,
   "toc_window_display": false
  },
  "vscode": {
   "interpreter": {
    "hash": "ff6bbc059f09f5d67763002880d565854665e18376ee4b40865bcf6ed65b96b4"
   }
  }
 },
 "nbformat": 4,
 "nbformat_minor": 4
}
